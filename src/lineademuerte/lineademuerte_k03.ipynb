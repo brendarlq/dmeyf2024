{
 "cells": [
  {
   "cell_type": "markdown",
   "id": "859d38e7-11c0-48bc-978a-d0e907f19ed1",
   "metadata": {},
   "source": [
    "# Linea de Muerte, Tercera Competencia"
   ]
  },
  {
   "cell_type": "markdown",
   "id": "29c586e3-ed7d-44b2-92a0-f19669f06940",
   "metadata": {},
   "source": [
    "### Legal Notice"
   ]
  },
  {
   "cell_type": "markdown",
   "id": "6fff8327-10ed-4b11-bbee-f1c3f357d123",
   "metadata": {},
   "source": [
    "Alumnos, de la comision del lunes o del jueves\n",
    "\n",
    "que terminen en el Private Leaderboard por debajo de la ganancia  del submit que genera este muy basico script\n",
    "\n",
    "tendran severamente comprometidas sus chances de aprobar la asignatura"
   ]
  },
  {
   "cell_type": "markdown",
   "id": "e1cb43bd-2c9a-4097-9206-db412ab4bb5b",
   "metadata": {},
   "source": [
    "por favor notar que este script construye todo de cero, y unicamente utiliza conceptos ya que estaban disponibles an la Primera Competencia"
   ]
  },
  {
   "cell_type": "markdown",
   "id": "0a3b7de9-d831-4574-a121-92bcb2b615f8",
   "metadata": {},
   "source": [
    "### Requerimientos"
   ]
  },
  {
   "cell_type": "markdown",
   "id": "eefea112-bcb8-41aa-b6b1-384a1101d1e2",
   "metadata": {},
   "source": [
    "* Este script necesita apenas una virtual machine con **32 GB** de memoria RAM\n",
    "* Corre en una hora y cuarenta"
   ]
  },
  {
   "cell_type": "markdown",
   "id": "85171302-a2d6-48cb-b9b2-8d839a276859",
   "metadata": {},
   "source": [
    "## Inicializacion"
   ]
  },
  {
   "cell_type": "markdown",
   "id": "b10034c3-b3b1-4912-af3b-a3263687acba",
   "metadata": {},
   "source": [
    "Establezco Experimento"
   ]
  },
  {
   "cell_type": "code",
   "execution_count": 1,
   "id": "d9aca541-092a-4716-8db8-7b17a5ea12f7",
   "metadata": {},
   "outputs": [
    {
     "data": {
      "text/html": [
       "'Wed Dec 04 13:21:38 2024'"
      ],
      "text/latex": [
       "'Wed Dec 04 13:21:38 2024'"
      ],
      "text/markdown": [
       "'Wed Dec 04 13:21:38 2024'"
      ],
      "text/plain": [
       "[1] \"Wed Dec 04 13:21:38 2024\""
      ]
     },
     "metadata": {},
     "output_type": "display_data"
    },
    {
     "data": {
      "text/html": [
       "<table class=\"dataframe\">\n",
       "<caption>A matrix: 2 × 6 of type dbl</caption>\n",
       "<thead>\n",
       "\t<tr><th></th><th scope=col>used</th><th scope=col>(Mb)</th><th scope=col>gc trigger</th><th scope=col>(Mb)</th><th scope=col>max used</th><th scope=col>(Mb)</th></tr>\n",
       "</thead>\n",
       "<tbody>\n",
       "\t<tr><th scope=row>Ncells</th><td> 655720</td><td>35.1</td><td>1442491</td><td>77.1</td><td>1126794</td><td>60.2</td></tr>\n",
       "\t<tr><th scope=row>Vcells</th><td>1219418</td><td> 9.4</td><td>8388608</td><td>64.0</td><td>1924976</td><td>14.7</td></tr>\n",
       "</tbody>\n",
       "</table>\n"
      ],
      "text/latex": [
       "A matrix: 2 × 6 of type dbl\n",
       "\\begin{tabular}{r|llllll}\n",
       "  & used & (Mb) & gc trigger & (Mb) & max used & (Mb)\\\\\n",
       "\\hline\n",
       "\tNcells &  655720 & 35.1 & 1442491 & 77.1 & 1126794 & 60.2\\\\\n",
       "\tVcells & 1219418 &  9.4 & 8388608 & 64.0 & 1924976 & 14.7\\\\\n",
       "\\end{tabular}\n"
      ],
      "text/markdown": [
       "\n",
       "A matrix: 2 × 6 of type dbl\n",
       "\n",
       "| <!--/--> | used | (Mb) | gc trigger | (Mb) | max used | (Mb) |\n",
       "|---|---|---|---|---|---|---|\n",
       "| Ncells |  655720 | 35.1 | 1442491 | 77.1 | 1126794 | 60.2 |\n",
       "| Vcells | 1219418 |  9.4 | 8388608 | 64.0 | 1924976 | 14.7 |\n",
       "\n"
      ],
      "text/plain": [
       "       used    (Mb) gc trigger (Mb) max used (Mb)\n",
       "Ncells  655720 35.1 1442491    77.1 1126794  60.2\n",
       "Vcells 1219418  9.4 8388608    64.0 1924976  14.7"
      ]
     },
     "metadata": {},
     "output_type": "display_data"
    }
   ],
   "source": [
    "# limpio la memoria\n",
    "format(Sys.time(), \"%a %b %d %X %Y\")\n",
    "rm(list = ls(all.names = TRUE)) # remove all objects\n",
    "gc(full = TRUE, verbose= FALSE) # garbage collection\n",
    "\n",
    "dir.create(\"~/buckets/b1/exp/lineademuerte/\", showWarnings = FALSE)\n",
    "setwd( \"~/buckets/b1/exp/lineademuerte/\" )"
   ]
  },
  {
   "cell_type": "markdown",
   "id": "c87a2d52-a399-4b64-8041-7a12bc076820",
   "metadata": {},
   "source": [
    "## Creacion clase_ternaria"
   ]
  },
  {
   "cell_type": "markdown",
   "id": "c42387b5-db2f-432e-91f7-ed4859e28127",
   "metadata": {},
   "source": [
    "Creacion de clase_ternaria a partir del dataset crudo"
   ]
  },
  {
   "cell_type": "code",
   "execution_count": null,
   "id": "0b63eca1-66bb-4394-b3dd-04b7b17a01cb",
   "metadata": {},
   "outputs": [
    {
     "name": "stderr",
     "output_type": "stream",
     "text": [
      "Loading required package: data.table\n",
      "\n"
     ]
    }
   ],
   "source": [
    "require( \"data.table\" )\n",
    "\n",
    "# leo el dataset\n",
    "dataset <- fread(\"~/buckets/b1/datasets/competencia_03_crudo.csv.gz\" )\n",
    "\n",
    "# calculo el periodo0 consecutivo\n",
    "setorder( dataset, numero_de_cliente, foto_mes )\n",
    "dataset[, periodo0 := as.integer(foto_mes/100)*12 +  foto_mes%%100]\n",
    "\n",
    "# calculo topes\n",
    "periodo_ultimo <- dataset[, max(periodo0) ]\n",
    "periodo_anteultimo <- periodo_ultimo - 1\n",
    "\n",
    "# calculo los leads de orden 1 y 2\n",
    "dataset[, c(\"periodo1\", \"periodo2\") :=\n",
    "    shift(periodo0, n=1:2, fill=NA, type=\"lead\"),  numero_de_cliente ]\n",
    "\n",
    "# assign most common class values = \"CONTINUA\"\n",
    "dataset[ periodo0 < periodo_anteultimo, clase_ternaria := \"CONTINUA\" ]\n",
    "\n",
    "# calculo BAJA+1\n",
    "dataset[ periodo0 < periodo_ultimo &\n",
    "    ( is.na(periodo1) | periodo0 + 1 < periodo1 ),\n",
    "    clase_ternaria := \"BAJA+1\" ]\n",
    "\n",
    "# calculo BAJA+2\n",
    "dataset[ periodo0 < periodo_anteultimo & (periodo0+1 == periodo1 )\n",
    "    & ( is.na(periodo2) | periodo0 + 2 < periodo2 ),\n",
    "    clase_ternaria := \"BAJA+2\" ]\n",
    "\n",
    "dataset[, c(\"periodo0\", \"periodo1\", \"periodo2\") := NULL ]"
   ]
  },
  {
   "cell_type": "markdown",
   "id": "8f59628b-dd54-45d0-99a7-fc47225b292c",
   "metadata": {},
   "source": [
    "Verificacion de clase_ternaria"
   ]
  },
  {
   "cell_type": "code",
   "execution_count": null,
   "id": "849ec3c1-de8d-4748-824b-3203ab17d298",
   "metadata": {},
   "outputs": [],
   "source": [
    "tbl <- dataset[, .N, list(foto_mes, clase_ternaria)]\n",
    "setorder(tbl, foto_mes, clase_ternaria)\n",
    "tbl"
   ]
  },
  {
   "cell_type": "markdown",
   "id": "b4f9bc1e-6002-4831-9ce9-6a7b11e5aef6",
   "metadata": {},
   "source": [
    "## Preprocesamiento"
   ]
  },
  {
   "cell_type": "markdown",
   "id": "9682b4ca-3ab3-4bbc-a36a-b185361e6b6b",
   "metadata": {},
   "source": [
    "Solamente se hará un Feature Engineering Histórico"
   ]
  },
  {
   "cell_type": "markdown",
   "id": "fdb9b534-455c-4730-91d2-097bac1a9567",
   "metadata": {},
   "source": [
    "Intencionalmente **NO** se hacen\n",
    "* Data Quality = Catastrophe Analysis   ( variables rotas que están en CERO )\n",
    "* Data Drifting,  ajuste por Inflacion\n",
    "* Feature Engineering Manual intra-mes\n",
    "* Feature Engineering de nuevas variables a partir de hojas de Random Forest"
   ]
  },
  {
   "cell_type": "markdown",
   "id": "74c2c5c2-8b70-468b-aeb8-b9a37dec24dc",
   "metadata": {},
   "source": [
    "### Feature Engineering Historico"
   ]
  },
  {
   "cell_type": "markdown",
   "id": "cfe3b8cf-0707-4512-92e7-c1407bb3f73b",
   "metadata": {},
   "source": [
    "Para cada campo del dataset original (*)\n",
    "se crean lo siguientes campos de a partir de la historia\n",
    "* lag1  lags de orden 1\n",
    "* delta1    valor actual - lag1\n",
    "* lag2  lags de orden 2\n",
    "* delta2  valor actual - lag2\n",
    "\n",
    "se pasa de  155 campos a 763\n",
    "\n",
    "(*) Excepto para los campos  [ numero_de_cliente,  foto_mes,  clase_ternaria]"
   ]
  },
  {
   "cell_type": "code",
   "execution_count": null,
   "id": "7850b948-827d-4a2a-b4d3-a5e459b47c11",
   "metadata": {},
   "outputs": [],
   "source": [
    "# Feature Engineering Historico\n",
    "cols_lagueables <- copy( setdiff(\n",
    "    colnames(dataset),\n",
    "    c(\"numero_de_cliente\", \"foto_mes\", \"clase_ternaria\")\n",
    ") )\n",
    "\n",
    "\n",
    "dataset[, \n",
    "    paste0(cols_lagueables, \"_lag1\") := shift(.SD, 1, NA, \"lag\"),\n",
    "    by = numero_de_cliente,\n",
    "    .SDcols = cols_lagueables\n",
    "]\n",
    "\n",
    "dataset[, \n",
    "    paste0(cols_lagueables, \"_lag2\") := shift(.SD, 2, NA, \"lag\"),\n",
    "    by = numero_de_cliente,\n",
    "    .SDcols = cols_lagueables\n",
    "]\n",
    "\n",
    "# agrego los delta lags de orden 1\n",
    "for (vcol in cols_lagueables)\n",
    "{\n",
    "    dataset[, paste0(vcol, \"_delta1\") := get(vcol) - get(paste0(vcol, \"_lag1\"))]\n",
    "    dataset[, paste0(vcol, \"_delta2\") := get(vcol) - get(paste0(vcol, \"_lag2\"))]\n",
    "}\n"
   ]
  },
  {
   "cell_type": "markdown",
   "id": "cea690d9-ece9-4852-a5e2-f337c31b6721",
   "metadata": {},
   "source": [
    "Veriricacion de los campos recien creados"
   ]
  },
  {
   "cell_type": "code",
   "execution_count": null,
   "id": "f772896b-595a-47d4-8905-c15304ac9452",
   "metadata": {
    "scrolled": true
   },
   "outputs": [],
   "source": [
    "ncol(dataset)\n",
    "colnames(dataset)"
   ]
  },
  {
   "cell_type": "code",
   "execution_count": null,
   "id": "ab47de87-5705-4e57-b21a-261ebbf5f462",
   "metadata": {},
   "outputs": [],
   "source": [
    "atributos_presentes <- function( patributos )\n",
    "{\n",
    "  atributos <- unique( patributos )\n",
    "  comun <- intersect( atributos, colnames(dataset) )\n",
    "\n",
    "  return(  length( atributos ) == length( comun ) )\n",
    "}\n",
    "AgregarVariables_IntraMes <- function(dataset) {\n",
    "  cat( \"inicio AgregarVariables_IntraMes()\\n\")\n",
    "  gc(verbose= FALSE)\n",
    "  # INICIO de la seccion donde se deben hacer cambios con variables nuevas\n",
    "\n",
    "  # el mes 1,2, ..12\n",
    "  if( atributos_presentes( c(\"foto_mes\") ))\n",
    "    dataset[, kmes := foto_mes %% 100]\n",
    "\n",
    "  # creo un ctr_quarter que tenga en cuenta cuando\n",
    "  # los clientes hace 3 menos meses que estan\n",
    "  # ya que seria injusto considerar las transacciones medidas en menor tiempo\n",
    "  if( atributos_presentes( c(\"ctrx_quarter\") ))\n",
    "    dataset[, ctrx_quarter_normalizado := as.numeric(ctrx_quarter) ]\n",
    "\n",
    "  if( atributos_presentes( c(\"ctrx_quarter\", \"cliente_antiguedad\") ))\n",
    "    dataset[cliente_antiguedad == 1, ctrx_quarter_normalizado := ctrx_quarter * 5]\n",
    "\n",
    "  if( atributos_presentes( c(\"ctrx_quarter\", \"cliente_antiguedad\") ))\n",
    "    dataset[cliente_antiguedad == 2, ctrx_quarter_normalizado := ctrx_quarter * 2]\n",
    "\n",
    "  if( atributos_presentes( c(\"ctrx_quarter\", \"cliente_antiguedad\") ))\n",
    "    dataset[\n",
    "      cliente_antiguedad == 3,\n",
    "      ctrx_quarter_normalizado := ctrx_quarter * 1.2\n",
    "    ]\n",
    "\n",
    "  # variable extraida de una tesis de maestria de Irlanda\n",
    "  if( atributos_presentes( c(\"mpayroll\", \"cliente_edad\") ))\n",
    "    dataset[, mpayroll_sobre_edad := mpayroll / cliente_edad]\n",
    "\n",
    "  # se crean los nuevos campos para MasterCard  y Visa,\n",
    "  #  teniendo en cuenta los NA's\n",
    "  # varias formas de combinar Visa_status y Master_status\n",
    "  if( atributos_presentes( c(\"Master_status\", \"Visa_status\") ))\n",
    "  {\n",
    "    dataset[, vm_status01 := pmax(Master_status, Visa_status, na.rm = TRUE)]\n",
    "    dataset[, vm_status02 := Master_status + Visa_status]\n",
    "\n",
    "    dataset[, vm_status03 := pmax(\n",
    "      ifelse(is.na(Master_status), 10, Master_status),\n",
    "      ifelse(is.na(Visa_status), 10, Visa_status)\n",
    "    )]\n",
    "\n",
    "    dataset[, vm_status04 := ifelse(is.na(Master_status), 10, Master_status)\n",
    "      + ifelse(is.na(Visa_status), 10, Visa_status)]\n",
    "\n",
    "    dataset[, vm_status05 := ifelse(is.na(Master_status), 10, Master_status)\n",
    "      + 100 * ifelse(is.na(Visa_status), 10, Visa_status)]\n",
    "\n",
    "    dataset[, vm_status06 := ifelse(is.na(Visa_status),\n",
    "      ifelse(is.na(Master_status), 10, Master_status),\n",
    "      Visa_status\n",
    "    )]\n",
    "\n",
    "    dataset[, mv_status07 := ifelse(is.na(Master_status),\n",
    "      ifelse(is.na(Visa_status), 10, Visa_status),\n",
    "      Master_status\n",
    "    )]\n",
    "  }\n",
    "\n",
    "\n",
    "  # combino MasterCard y Visa\n",
    "  if( atributos_presentes( c(\"Master_mfinanciacion_limite\", \"Visa_mfinanciacion_limite\") ))\n",
    "    dataset[, vm_mfinanciacion_limite := rowSums(cbind(Master_mfinanciacion_limite, Visa_mfinanciacion_limite), na.rm = TRUE)]\n",
    "\n",
    "  if( atributos_presentes( c(\"Master_Fvencimiento\", \"Visa_Fvencimiento\") ))\n",
    "    dataset[, vm_Fvencimiento := pmin(Master_Fvencimiento, Visa_Fvencimiento, na.rm = TRUE)]\n",
    "\n",
    "  if( atributos_presentes( c(\"Master_Finiciomora\", \"Visa_Finiciomora\") ))\n",
    "    dataset[, vm_Finiciomora := pmin(Master_Finiciomora, Visa_Finiciomora, na.rm = TRUE)]\n",
    "\n",
    "  if( atributos_presentes( c(\"Master_msaldototal\", \"Visa_msaldototal\") ))\n",
    "    dataset[, vm_msaldototal := rowSums(cbind(Master_msaldototal, Visa_msaldototal), na.rm = TRUE)]\n",
    "\n",
    "  if( atributos_presentes( c(\"Master_msaldopesos\", \"Visa_msaldopesos\") ))\n",
    "    dataset[, vm_msaldopesos := rowSums(cbind(Master_msaldopesos, Visa_msaldopesos), na.rm = TRUE)]\n",
    "\n",
    "  if( atributos_presentes( c(\"Master_msaldodolares\", \"Visa_msaldodolares\") ))\n",
    "    dataset[, vm_msaldodolares := rowSums(cbind(Master_msaldodolares, Visa_msaldodolares), na.rm = TRUE)]\n",
    "\n",
    "  if( atributos_presentes( c(\"Master_mconsumospesos\", \"Visa_mconsumospesos\") ))\n",
    "    dataset[, vm_mconsumospesos := rowSums(cbind(Master_mconsumospesos, Visa_mconsumospesos), na.rm = TRUE)]\n",
    "\n",
    "  if( atributos_presentes( c(\"Master_mconsumosdolares\", \"Visa_mconsumosdolares\") ))\n",
    "    dataset[, vm_mconsumosdolares := rowSums(cbind(Master_mconsumosdolares, Visa_mconsumosdolares), na.rm = TRUE)]\n",
    "\n",
    "  if( atributos_presentes( c(\"Master_mlimitecompra\", \"Visa_mlimitecompra\") ))\n",
    "    dataset[, vm_mlimitecompra := rowSums(cbind(Master_mlimitecompra, Visa_mlimitecompra), na.rm = TRUE)]\n",
    "\n",
    "  if( atributos_presentes( c(\"Master_madelantopesos\", \"Visa_madelantopesos\") ))\n",
    "    dataset[, vm_madelantopesos := rowSums(cbind(Master_madelantopesos, Visa_madelantopesos), na.rm = TRUE)]\n",
    "\n",
    "  if( atributos_presentes( c(\"Master_madelantodolares\", \"Visa_madelantodolares\") ))\n",
    "    dataset[, vm_madelantodolares := rowSums(cbind(Master_madelantodolares, Visa_madelantodolares), na.rm = TRUE)]\n",
    "\n",
    "  if( atributos_presentes( c(\"Master_fultimo_cierre\", \"Visa_fultimo_cierre\") ))\n",
    "    dataset[, vm_fultimo_cierre := pmax(Master_fultimo_cierre, Visa_fultimo_cierre, na.rm = TRUE)]\n",
    "\n",
    "  if( atributos_presentes( c(\"Master_mpagado\", \"Visa_mpagado\") ))\n",
    "    dataset[, vm_mpagado := rowSums(cbind(Master_mpagado, Visa_mpagado), na.rm = TRUE)]\n",
    "\n",
    "  if( atributos_presentes( c(\"Master_mpagospesos\", \"Visa_mpagospesos\") ))\n",
    "    dataset[, vm_mpagospesos := rowSums(cbind(Master_mpagospesos, Visa_mpagospesos), na.rm = TRUE)]\n",
    "\n",
    "  if( atributos_presentes( c(\"Master_mpagosdolares\", \"Visa_mpagosdolares\") ))\n",
    "    dataset[, vm_mpagosdolares := rowSums(cbind(Master_mpagosdolares, Visa_mpagosdolares), na.rm = TRUE)]\n",
    "\n",
    "  if( atributos_presentes( c(\"Master_fechaalta\", \"Visa_fechaalta\") ))\n",
    "    dataset[, vm_fechaalta := pmax(Master_fechaalta, Visa_fechaalta, na.rm = TRUE)]\n",
    "\n",
    "  if( atributos_presentes( c(\"Master_mconsumototal\", \"Visa_mconsumototal\") ))\n",
    "    dataset[, vm_mconsumototal := rowSums(cbind(Master_mconsumototal, Visa_mconsumototal), na.rm = TRUE)]\n",
    "\n",
    "  if( atributos_presentes( c(\"Master_cconsumos\", \"Visa_cconsumos\") ))\n",
    "    dataset[, vm_cconsumos := rowSums(cbind(Master_cconsumos, Visa_cconsumos), na.rm = TRUE)]\n",
    "\n",
    "  if( atributos_presentes( c(\"Master_cadelantosefectivo\", \"Visa_cadelantosefectivo\") ))\n",
    "    dataset[, vm_cadelantosefectivo := rowSums(cbind(Master_cadelantosefectivo, Visa_cadelantosefectivo), na.rm = TRUE)]\n",
    "\n",
    "  if( atributos_presentes( c(\"Master_mpagominimo\", \"Visa_mpagominimo\") ))\n",
    "    dataset[, vm_mpagominimo := rowSums(cbind(Master_mpagominimo, Visa_mpagominimo), na.rm = TRUE)]\n",
    "\n",
    "  # a partir de aqui juego con la suma de Mastercard y Visa\n",
    "  if( atributos_presentes( c(\"Master_mlimitecompra\", \"vm_mlimitecompra\") ))\n",
    "    dataset[, vmr_Master_mlimitecompra := Master_mlimitecompra / vm_mlimitecompra]\n",
    "\n",
    "  if( atributos_presentes( c(\"Visa_mlimitecompra\", \"vm_mlimitecompra\") ))\n",
    "    dataset[, vmr_Visa_mlimitecompra := Visa_mlimitecompra / vm_mlimitecompra]\n",
    "\n",
    "  if( atributos_presentes( c(\"vm_msaldototal\", \"vm_mlimitecompra\") ))\n",
    "    dataset[, vmr_msaldototal := vm_msaldototal / vm_mlimitecompra]\n",
    "\n",
    "  if( atributos_presentes( c(\"vm_msaldopesos\", \"vm_mlimitecompra\") ))\n",
    "    dataset[, vmr_msaldopesos := vm_msaldopesos / vm_mlimitecompra]\n",
    "\n",
    "  if( atributos_presentes( c(\"vm_msaldopesos\", \"vm_msaldototal\") ))\n",
    "    dataset[, vmr_msaldopesos2 := vm_msaldopesos / vm_msaldototal]\n",
    "\n",
    "  if( atributos_presentes( c(\"vm_msaldodolares\", \"vm_mlimitecompra\") ))\n",
    "    dataset[, vmr_msaldodolares := vm_msaldodolares / vm_mlimitecompra]\n",
    "\n",
    "  if( atributos_presentes( c(\"vm_msaldodolares\", \"vm_msaldototal\") ))\n",
    "    dataset[, vmr_msaldodolares2 := vm_msaldodolares / vm_msaldototal]\n",
    "\n",
    "  if( atributos_presentes( c(\"vm_mconsumospesos\", \"vm_mlimitecompra\") ))\n",
    "    dataset[, vmr_mconsumospesos := vm_mconsumospesos / vm_mlimitecompra]\n",
    "\n",
    "  if( atributos_presentes( c(\"vm_mconsumosdolares\", \"vm_mlimitecompra\") ))\n",
    "    dataset[, vmr_mconsumosdolares := vm_mconsumosdolares / vm_mlimitecompra]\n",
    "\n",
    "  if( atributos_presentes( c(\"vm_madelantopesos\", \"vm_mlimitecompra\") ))\n",
    "    dataset[, vmr_madelantopesos := vm_madelantopesos / vm_mlimitecompra]\n",
    "\n",
    "  if( atributos_presentes( c(\"vm_madelantodolares\", \"vm_mlimitecompra\") ))\n",
    "    dataset[, vmr_madelantodolares := vm_madelantodolares / vm_mlimitecompra]\n",
    "\n",
    "  if( atributos_presentes( c(\"vm_mpagado\", \"vm_mlimitecompra\") ))\n",
    "    dataset[, vmr_mpagado := vm_mpagado / vm_mlimitecompra]\n",
    "\n",
    "  if( atributos_presentes( c(\"vm_mpagospesos\", \"vm_mlimitecompra\") ))\n",
    "    dataset[, vmr_mpagospesos := vm_mpagospesos / vm_mlimitecompra]\n",
    "\n",
    "  if( atributos_presentes( c(\"vm_mpagosdolares\", \"vm_mlimitecompra\") ))\n",
    "    dataset[, vmr_mpagosdolares := vm_mpagosdolares / vm_mlimitecompra]\n",
    "\n",
    "  if( atributos_presentes( c(\"vm_mconsumototal\", \"vm_mlimitecompra\") ))\n",
    "    dataset[, vmr_mconsumototal := vm_mconsumototal / vm_mlimitecompra]\n",
    "\n",
    "  if( atributos_presentes( c(\"vm_mpagominimo\", \"vm_mlimitecompra\") ))\n",
    "    dataset[, vmr_mpagominimo := vm_mpagominimo / vm_mlimitecompra]\n",
    "\n",
    "  # Aqui debe usted agregar sus propias nuevas variables\n",
    "\n",
    "  # valvula de seguridad para evitar valores infinitos\n",
    "  # paso los infinitos a NULOS\n",
    "  infinitos <- lapply(\n",
    "    names(dataset),\n",
    "    function(.name) dataset[, sum(is.infinite(get(.name)))]\n",
    "  )\n",
    "\n",
    "  infinitos_qty <- sum(unlist(infinitos))\n",
    "  if (infinitos_qty > 0) {\n",
    "    cat(\n",
    "      \"ATENCION, hay\", infinitos_qty,\n",
    "      \"valores infinitos en tu dataset. Seran pasados a NA\\n\"\n",
    "    )\n",
    "    dataset[mapply(is.infinite, dataset)] <<- NA\n",
    "  }\n",
    "\n",
    "\n",
    "  # valvula de seguridad para evitar valores NaN  que es 0/0\n",
    "  # paso los NaN a 0 , decision polemica si las hay\n",
    "  # se invita a asignar un valor razonable segun la semantica del campo creado\n",
    "  nans <- lapply(\n",
    "    names(dataset),\n",
    "    function(.name) dataset[, sum(is.nan(get(.name)))]\n",
    "  )\n",
    "\n",
    "  nans_qty <- sum(unlist(nans))\n",
    "  if (nans_qty > 0) {\n",
    "    cat(\n",
    "      \"ATENCION, hay\", nans_qty,\n",
    "      \"valores NaN 0/0 en tu dataset. Seran pasados arbitrariamente a 0\\n\"\n",
    "    )\n",
    "\n",
    "    cat(\"Si no te gusta la decision, modifica a gusto el programa!\\n\\n\")\n",
    "    dataset[mapply(is.nan, dataset)] <<- 0\n",
    "  }\n",
    "\n",
    "  cat( \"fin AgregarVariables_IntraMes()\\n\")\n",
    "}\n",
    "\n",
    "AgregarVariables_IntraMes(dataset)"
   ]
  },
  {
   "cell_type": "markdown",
   "id": "cf91ea5e-3341-4afb-8d05-cc4923d3d1e1",
   "metadata": {},
   "source": [
    "## Modelado"
   ]
  },
  {
   "cell_type": "markdown",
   "id": "526048e4-8cf2-4023-bd2d-a70e4e9ff157",
   "metadata": {},
   "source": [
    "### Training Strategy"
   ]
  },
  {
   "cell_type": "markdown",
   "id": "f16bc1c1-b3ea-43ca-9d3c-53f8f9ab8ec1",
   "metadata": {},
   "source": [
    "Se hace una estrategia de entrenamiento muy sencilla, tomando todos los meses posibles, SIN eliminar nada x pandemia ni por ningun otro motivo\n",
    "\n",
    "* future = 202109  obviamente completo\n",
    "\n",
    "* final_train =  [ 201901, 202107 ]  con un undersampling de los CONTINUA del 2% por un tema de velocidad\n",
    "\n",
    "* training\n",
    "   * testing = NO HAY\n",
    "   * validation =  202107   completo, sin undersampling \n",
    "   * training = [ 201901, 202106 ]  con un undersampling de los CONTINUA del 2%  por un tema de velocidad"
   ]
  },
  {
   "cell_type": "code",
   "execution_count": null,
   "id": "8e788fe9-8187-46f4-a7d3-d8c053d00b1a",
   "metadata": {},
   "outputs": [],
   "source": [
    "GLOBAL_semilla <- 315697"
   ]
  },
  {
   "cell_type": "code",
   "execution_count": null,
   "id": "2c9c0a42-ba58-4264-8566-091a6161716f",
   "metadata": {},
   "outputs": [],
   "source": [
    "campos_buenos <- copy( setdiff(\n",
    "    colnames(dataset), c(\"clase_ternaria\"))\n",
    ")\n",
    "\n",
    "set.seed(GLOBAL_semilla, kind = \"L'Ecuyer-CMRG\")\n",
    "dataset[, azar:=runif(nrow(dataset))]\n",
    "\n",
    "dfuture <- dataset[foto_mes==202109]\n",
    "\n",
    "# undersampling de los CONTINIA al 8%\n",
    "dataset[, fold_train :=  foto_mes %in% c(202107, 202106,\n",
    "                                  # 202104, 202103, \n",
    "                                  202102, 202101, \n",
    "                                  202012, 202011, 202010, 202009, 202008, 202007, \n",
    "                                  202006,\n",
    "                                  202005, \n",
    "                                  # 202004, 202003, \n",
    "                                  202002, 202001,\n",
    "                                  201912, 201911,\n",
    "                                  # 201910 Excluyo por variables rotas\n",
    "                                  201909, 201908, 201907, 201906,\n",
    "                                  # 201905  Excluyo por variables rotas\n",
    "                                  201904, 201903, 201902, 201901\n",
    "    ) & (clase_ternaria %in% c(\"BAJA+1\", \"BAJA+2\") |\n",
    "     azar < 0.10 ) ]\n",
    "\n",
    "dataset[, clase01 := ifelse( clase_ternaria==\"CONTINUA\", 0, 1 )]\n",
    "\n",
    "require(\"lightgbm\")\n",
    "\n",
    "# dejo los datos en el formato que necesita LightGBM\n",
    "dvalidate <- lgb.Dataset(\n",
    "  data = data.matrix(dataset[foto_mes==202107, campos_buenos, with = FALSE]),\n",
    "  label = dataset[foto_mes==202107, clase01],\n",
    "  free_raw_data = TRUE\n",
    ")\n",
    "\n",
    "# aqui se hace la magia informatica con los pesos para poder reutilizar\n",
    "#  el mismo dataset para training y final_train\n",
    "dtrain <- lgb.Dataset(\n",
    "  data = data.matrix(dataset[fold_train == TRUE, campos_buenos, with = FALSE]),\n",
    "  label = dataset[fold_train == TRUE, clase01],\n",
    "  weight = dataset[fold_train == TRUE, ifelse( \n",
    "                                  foto_mes %in% c(202106,\n",
    "                                  # 202104, 202103, \n",
    "                                  202102, 202101, \n",
    "                                  202012, 202011, 202010, 202009, 202008, 202007, \n",
    "                                  202006,\n",
    "                                  202005, \n",
    "                                  # 202004, 202003, \n",
    "                                  202002, 202001,\n",
    "                                  201912, 201911,\n",
    "                                  # 201910 Excluyo por variables rotas\n",
    "                                  201909, 201908, 201907, 201906,\n",
    "                                  # 201905  Excluyo por variables rotas\n",
    "                                  201904, 201903, 201902, 201901), 1.0, 0.0)],\n",
    "  free_raw_data = TRUE\n",
    ")\n",
    "\n",
    "rm( dataset )\n",
    "gc(full = TRUE, verbose= FALSE) # garbage collection"
   ]
  },
  {
   "cell_type": "markdown",
   "id": "9c8fb04d-c851-4bc7-8ea5-67cbffd967b9",
   "metadata": {},
   "source": [
    "verificacion de datasets de entrenamiento"
   ]
  },
  {
   "cell_type": "code",
   "execution_count": null,
   "id": "1c7ec0c3-1292-4d23-b3f1-016615fa3e17",
   "metadata": {},
   "outputs": [],
   "source": [
    "nrow( dfuture )\n",
    "nrow( dvalidate )\n",
    "nrow( dtrain )"
   ]
  },
  {
   "cell_type": "markdown",
   "id": "28e8f788-551c-4e50-9029-302ac0834287",
   "metadata": {},
   "source": [
    "### Hyperparameter Tuning"
   ]
  },
  {
   "cell_type": "markdown",
   "id": "bf5fc836-e222-4aeb-a6a8-157346895ef7",
   "metadata": {},
   "source": [
    "* Clase binaria que se optimiza :  positivos = [ BAJA+1, BAJA+2 ]"
   ]
  },
  {
   "cell_type": "markdown",
   "id": "885c03b5-77bc-4510-a930-0d1f14b52ffb",
   "metadata": {},
   "source": [
    "* Metrica que se optimiza **AUC** Area Under Curve de la  ROC Curve \n",
    "\n",
    "es muy importante notar que intencionalmente  **NO** se está optimizando la funcion de ganancia del problema"
   ]
  },
  {
   "cell_type": "markdown",
   "id": "b7e6f95c-66ef-4ab9-9ba3-fcc099816704",
   "metadata": {},
   "source": [
    "* Cantidad de iteraciones intelifgentes de la Optimizacion Bayesiana = **10**"
   ]
  },
  {
   "cell_type": "markdown",
   "id": "fe047a87-e2d0-4418-97dd-0a881e66d73a",
   "metadata": {},
   "source": [
    "* Parametros no default, fijos de LightGBM que no se optimizan\n",
    "  * max_bin = 31 , Alienigenas Ancestrales contruyeron las pirámides y dejaron a la humanidad en un jeroglifico  *max_bin=31*\n",
    "  * feature_fraction = 0.5  para poner algo que generalmente no falla\n",
    "  * learning_rate = 0.03  para que aprenda lento\n"
   ]
  },
  {
   "cell_type": "markdown",
   "id": "1e7da08e-fe57-4681-beff-11fe963116bd",
   "metadata": {},
   "source": [
    "* Parametros que se optimizan en la Bayesian Optimization\n",
    "  * num_leaves  [8, 1024]\n",
    "  * min_data_in_leaf  [64, 8196]"
   ]
  },
  {
   "cell_type": "code",
   "execution_count": null,
   "id": "2c10f535-8d90-47d1-ac3d-9b4c24ec21d2",
   "metadata": {},
   "outputs": [],
   "source": [
    "\n",
    "# parametros basicos del LightGBM\n",
    "param_basicos <- list(\n",
    "    objective = \"binary\",\n",
    "    metric = \"auc\",\n",
    "    first_metric_only = TRUE,\n",
    "    boost_from_average = TRUE,\n",
    "    feature_pre_filter = FALSE,\n",
    "    verbosity = -100,\n",
    "    force_row_wise = TRUE, # para evitar warning\n",
    "    seed = GLOBAL_semilla,\n",
    "    max_bin = 31,\n",
    "    learning_rate = 0.05,\n",
    "    feature_fraction = 0.7\n",
    ")\n",
    "\n",
    "\n",
    "EstimarGanancia_AUC_lightgbm <- function(x) {\n",
    "\n",
    "    message(format(Sys.time(), \"%a %b %d %X %Y\"))\n",
    "    param_train <- list(\n",
    "      num_iterations = 2048, # valor grande, lo limita early_stopping_rounds\n",
    "      early_stopping_rounds = 200\n",
    "    )\n",
    "\n",
    "    param_completo <- c(param_basicos, param_train, x)\n",
    "\n",
    "    modelo_train <- lgb.train(\n",
    "      data = dtrain,\n",
    "      valids = list(valid = dvalidate),\n",
    "      eval = \"auc\", \n",
    "      param = param_completo,\n",
    "      verbose = -100\n",
    "    )\n",
    "\n",
    "    AUC <- modelo_train$record_evals$valid$auc$eval[[modelo_train$best_iter]]\n",
    "\n",
    "    # esta es la forma de devolver un parametro extra\n",
    "    attr(AUC, \"extras\") <- list(\"num_iterations\"= modelo_train$best_iter)\n",
    "    \n",
    "    rm(modelo_train)\n",
    "    gc(full= TRUE, verbose= FALSE)\n",
    "    \n",
    "    return(AUC)\n",
    "}\n"
   ]
  },
  {
   "cell_type": "markdown",
   "id": "267a35d4-adaf-4271-a875-3864111333b7",
   "metadata": {},
   "source": [
    "Complejo seteo de la Bayesian Optimization"
   ]
  },
  {
   "cell_type": "code",
   "execution_count": null,
   "id": "af7d7be7-05d0-4497-9c19-8ee448af458b",
   "metadata": {},
   "outputs": [],
   "source": [
    "# paquetes necesarios para la Bayesian Optimization\n",
    "require(\"DiceKriging\")\n",
    "require(\"mlrMBO\")"
   ]
  },
  {
   "cell_type": "markdown",
   "id": "58c8f415-7ff5-4d30-853e-70ffbe2781d3",
   "metadata": {},
   "source": [
    "el seteo propiamente"
   ]
  },
  {
   "cell_type": "code",
   "execution_count": null,
   "id": "43c2a92d-1041-46b8-bff2-47297f209ed2",
   "metadata": {},
   "outputs": [],
   "source": [
    "configureMlr(show.learner.output = FALSE)\n",
    "\n",
    "# configuro la busqueda bayesiana,  los hiperparametros que se van a optimizar\n",
    "# por favor, no desesperarse por lo complejo\n",
    "obj.fun <- makeSingleObjectiveFunction(\n",
    "    fn = EstimarGanancia_AUC_lightgbm, # la funcion que voy a maximizar\n",
    "    minimize = FALSE, # estoy Maximizando AUC\n",
    "    noisy = FALSE,\n",
    "    par.set = makeParamSet(\n",
    "       makeIntegerParam(\"num_leaves\", lower = 8L, upper = 1024L),\n",
    "       makeIntegerParam(\"min_data_in_leaf\", lower = 64L, upper = 8192L)\n",
    "    ),\n",
    "    has.simple.signature = FALSE # paso los parametros en una lista\n",
    ")\n",
    "\n",
    "# cada 600 segundos guardo el resultado intermedio\n",
    "ctrl <- makeMBOControl(\n",
    "    save.on.disk.at.time = 600,\n",
    "    save.file.path = \"lineademuerte.RDATA\"\n",
    ")\n",
    "\n",
    "# indico la cantidad de iteraciones que va a tener la Bayesian Optimization\n",
    "ctrl <- setMBOControlTermination(\n",
    "    ctrl,\n",
    "    iters = 20  # cantidad de iteraciones inteligentes\n",
    ")\n",
    "\n",
    "# defino el método estandar para la creacion de los puntos iniciales\n",
    "#   los \"No Inteligentes\"\n",
    "ctrl <- setMBOControlInfill(ctrl, crit = makeMBOInfillCritEI())\n",
    "\n",
    "# mas configuraciones\n",
    "surr.km <- makeLearner(\n",
    "    \"regr.km\",\n",
    "    predict.type = \"se\",\n",
    "    covtype = \"matern3_2\",\n",
    "    control = list(trace = TRUE)\n",
    ")\n"
   ]
  },
  {
   "cell_type": "markdown",
   "id": "6c1e5645-d26f-4923-a53f-f30471a4c4e8",
   "metadata": {},
   "source": [
    "Corrida de la Bayesian Optimization,  aqui se hace el trabajo pesado"
   ]
  },
  {
   "cell_type": "code",
   "execution_count": null,
   "id": "1f8cab3f-c7e2-4802-bfd1-5ad509922a4e",
   "metadata": {
    "scrolled": true
   },
   "outputs": [],
   "source": [
    "bayesiana_salida <- mbo(obj.fun, learner = surr.km, control = ctrl)"
   ]
  },
  {
   "cell_type": "markdown",
   "id": "36307612-964f-4df3-907a-1bc3c095f178",
   "metadata": {},
   "source": [
    "obtengo los mejores hiperparametros"
   ]
  },
  {
   "cell_type": "code",
   "execution_count": null,
   "id": "8c061a2a-3341-4006-a154-c95bb6cfd407",
   "metadata": {},
   "outputs": [],
   "source": [
    "tb_bayesiana <- as.data.table(bayesiana_salida$opt.path)\n",
    "setorder(tb_bayesiana, -y, -num_iterations) # ordeno en forma descendente por AUC = y\n",
    "mejores_hiperparametros <- tb_bayesiana[1, # el primero es el de mejor AUC\n",
    "    list(num_leaves, min_data_in_leaf, num_iterations)]\n",
    "\n",
    "print(mejores_hiperparametros)"
   ]
  },
  {
   "cell_type": "markdown",
   "id": "ddb554cb-1d96-4f6b-ae1c-c9a076f8dbdc",
   "metadata": {},
   "source": [
    "## Produccion"
   ]
  },
  {
   "cell_type": "markdown",
   "id": "c39492c3-756f-47a5-8747-93ade8275306",
   "metadata": {},
   "source": [
    "### Final Model"
   ]
  },
  {
   "cell_type": "markdown",
   "id": "e29b9a44-81a5-4134-b457-753aa1d44c95",
   "metadata": {},
   "source": [
    "magia informatica, ahora  dtrain es [201901, 202107] a todos les asigno el peso en 1.0"
   ]
  },
  {
   "cell_type": "code",
   "execution_count": null,
   "id": "a6924cf0-0bd2-49c0-945c-24400f925ea9",
   "metadata": {},
   "outputs": [],
   "source": [
    "set_field(dtrain, \"weight\", rep(1.0, nrow(dtrain)))"
   ]
  },
  {
   "cell_type": "code",
   "execution_count": null,
   "id": "d6b9f33c-e0a0-4ea6-8169-4a6180cc5d01",
   "metadata": {},
   "outputs": [],
   "source": [
    "param_final <- c(param_basicos, mejores_hiperparametros)"
   ]
  },
  {
   "cell_type": "markdown",
   "id": "05d3494f-0401-4f3e-9b69-f488a737879d",
   "metadata": {},
   "source": [
    "Genero el modelo final"
   ]
  },
  {
   "cell_type": "code",
   "execution_count": null,
   "id": "fa239848-1c28-4ee5-984a-073903b4b279",
   "metadata": {},
   "outputs": [],
   "source": [
    "final_model <- lgb.train(\n",
    "    data = dtrain,\n",
    "    param = param_final,\n",
    "    verbose = -100\n",
    ")"
   ]
  },
  {
   "cell_type": "markdown",
   "id": "7ea225b3-ce02-42e2-8330-b10ed250d172",
   "metadata": {},
   "source": [
    "### Scoring"
   ]
  },
  {
   "cell_type": "markdown",
   "id": "164981bb-f4c1-4228-8bc9-32e58a383c05",
   "metadata": {},
   "source": [
    "Aplico el modelo final a los datos del futuro"
   ]
  },
  {
   "cell_type": "code",
   "execution_count": null,
   "id": "88ca61c8-fa24-4ce5-8be1-323aca018e8f",
   "metadata": {},
   "outputs": [],
   "source": [
    "prediccion <- predict(\n",
    "  final_model,\n",
    "  data.matrix(dfuture[, campos_buenos, with = FALSE])\n",
    ")"
   ]
  },
  {
   "cell_type": "markdown",
   "id": "8412d838-5bd5-454e-b3a9-5eaa18d80a50",
   "metadata": {},
   "source": [
    "### Kaggle"
   ]
  },
  {
   "cell_type": "markdown",
   "id": "55970cb6-856a-46e3-a893-7f36b8352b8e",
   "metadata": {},
   "source": [
    "Genero la salida para Kaggle"
   ]
  },
  {
   "cell_type": "code",
   "execution_count": null,
   "id": "e5fa2439-b0e9-49e0-a861-71d7315d6e1c",
   "metadata": {},
   "outputs": [],
   "source": [
    "# genero la tabla de entrega\n",
    "tb_entrega <- dfuture[, list(numero_de_cliente)]\n",
    "tb_entrega[, prob := prediccion]\n",
    "\n",
    "# ordeno por probabilidad descendente\n",
    "setorder(tb_entrega, -prob)\n",
    "\n",
    "# lista de cortes para Predicted\n",
    "cortes <- c(10000, 10500, 11000, 11500)\n",
    "\n",
    "# bucle para generar un archivo por cada corte\n",
    "for (corte in cortes) {\n",
    "  # crea una copia de la tabla base\n",
    "  tb_corte <- copy(tb_entrega)\n",
    "  \n",
    "  # elimina la columna prob (opcional, puede hacerse después del ordenamiento)\n",
    "  tb_corte[, prob := NULL]\n",
    "  \n",
    "  # asigna Predicted según el corte\n",
    "  tb_corte[, Predicted := 0L]\n",
    "  tb_corte[1:corte, Predicted := 1L]\n",
    "  \n",
    "  # guarda el archivo con el corte en el nombre\n",
    "  fwrite(tb_corte, file = paste0(\"lineademuerte_\", corte, \".csv\"))\n",
    "}\n"
   ]
  },
  {
   "cell_type": "code",
   "execution_count": null,
   "id": "1b615a62-20cc-4e95-9af2-6b6db38d5efb",
   "metadata": {},
   "outputs": [],
   "source": [
    "format(Sys.time(), \"%a %b %d %X %Y\")"
   ]
  }
 ],
 "metadata": {
  "kernelspec": {
   "display_name": "R",
   "language": "R",
   "name": "ir"
  },
  "language_info": {
   "codemirror_mode": "r",
   "file_extension": ".r",
   "mimetype": "text/x-r-source",
   "name": "R",
   "pygments_lexer": "r",
   "version": "4.4.2"
  }
 },
 "nbformat": 4,
 "nbformat_minor": 5
}
